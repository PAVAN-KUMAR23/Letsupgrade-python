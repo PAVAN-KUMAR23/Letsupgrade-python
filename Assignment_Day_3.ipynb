{
  "nbformat": 4,
  "nbformat_minor": 0,
  "metadata": {
    "colab": {
      "name": "Assignment Day 2.ipynb",
      "provenance": [],
      "collapsed_sections": [],
      "authorship_tag": "ABX9TyNnEdcoSuAZ2ZaQM/dPX8Ro",
      "include_colab_link": true
    },
    "kernelspec": {
      "name": "python3",
      "display_name": "Python 3"
    }
  },
  "cells": [
    {
      "cell_type": "markdown",
      "metadata": {
        "id": "view-in-github",
        "colab_type": "text"
      },
      "source": [
        "<a href=\"https://colab.research.google.com/github/Pav-cpu/Letsupgrade-python/blob/master/Assignment_Day_2.ipynb\" target=\"_parent\"><img src=\"https://colab.research.google.com/assets/colab-badge.svg\" alt=\"Open In Colab\"/></a>"
      ]
    },
    {
      "cell_type": "code",
      "metadata": {
        "id": "xlLZIViH2G0_",
        "colab_type": "code",
        "colab": {
          "base_uri": "https://localhost:8080/",
          "height": 52
        },
        "outputId": "3c21101f-13f9-4b2d-f048-5b7fdda068f1"
      },
      "source": [
        "#find sum of n numbers with the help of while loop\n",
        "n=int(input(\"enter range\"))\n",
        "num=n\n",
        "sum=0\n",
        "while(n!=0):\n",
        "    sum+=n\n",
        "    n-=1\n",
        "print (\"sum of\",num,\"numbers is\",sum)"
      ],
      "execution_count": 4,
      "outputs": [
        {
          "output_type": "stream",
          "text": [
            "enter range5\n",
            "sum of 5 numbers is 15\n"
          ],
          "name": "stdout"
        }
      ]
    },
    {
      "cell_type": "code",
      "metadata": {
        "id": "RGkbIu2Q2Xxv",
        "colab_type": "code",
        "colab": {
          "base_uri": "https://localhost:8080/",
          "height": 52
        },
        "outputId": "cb510f8c-ac34-417e-9fe7-f745a1dca1fc"
      },
      "source": [
        "#Take an integer and find prime or not\n",
        "number=int(input (\"enter any number\"))\n",
        "c=0\n",
        "for i in range(1,number+1):\n",
        "    if(number%i==0):\n",
        "        c+=1\n",
        "if(c==2):\n",
        "    print(\"prime number\")\n",
        "else:\n",
        "    print (\"Not prime number\")"
      ],
      "execution_count": 7,
      "outputs": [
        {
          "output_type": "stream",
          "text": [
            "enter any number7\n",
            "prime number\n"
          ],
          "name": "stdout"
        }
      ]
    }
  ]
}
