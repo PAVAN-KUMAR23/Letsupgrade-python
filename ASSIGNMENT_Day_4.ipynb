{
  "nbformat": 4,
  "nbformat_minor": 0,
  "metadata": {
    "colab": {
      "name": "ASSIGNMENT Day_4.ipynb",
      "provenance": [],
      "authorship_tag": "ABX9TyOhZOY/oznEQpZ2brjc9ht9",
      "include_colab_link": true
    },
    "kernelspec": {
      "name": "python3",
      "display_name": "Python 3"
    }
  },
  "cells": [
    {
      "cell_type": "markdown",
      "metadata": {
        "id": "view-in-github",
        "colab_type": "text"
      },
      "source": [
        "<a href=\"https://colab.research.google.com/github/Pav-cpu/Letsupgrade-python/blob/master/ASSIGNMENT_Day_4.ipynb\" target=\"_parent\"><img src=\"https://colab.research.google.com/assets/colab-badge.svg\" alt=\"Open In Colab\"/></a>"
      ]
    },
    {
      "cell_type": "code",
      "metadata": {
        "id": "ACDP47tvrPKS",
        "colab_type": "code",
        "colab": {
          "base_uri": "https://localhost:8080/",
          "height": 90
        },
        "outputId": "cf15be18-416d-404f-a530-4357712ceb1f"
      },
      "source": [
        "import re\n",
        "string = input(\"enter a string\")\n",
        "substring =input(\"enter a substring\")\n",
        " \n",
        "matches = re.finditer(substring, string)\n",
        "matches_positions = [match.start() for match in matches]\n",
        " \n",
        "print(matches_positions)"
      ],
      "execution_count": 2,
      "outputs": [
        {
          "output_type": "stream",
          "text": [
            "enter a stringwhat we think we become.we are learning python.we do that\n",
            "enter a substringwe\n",
            "[5, 14, 24, 47]\n"
          ],
          "name": "stdout"
        }
      ]
    },
    {
      "cell_type": "code",
      "metadata": {
        "id": "oY1GrvUIsivm",
        "colab_type": "code",
        "colab": {
          "base_uri": "https://localhost:8080/",
          "height": 34
        },
        "outputId": "c3908c32-d6dd-4803-d012-f9e4c9a0d3f9"
      },
      "source": [
        "string=\"Pavan\"\n",
        "print(string.isupper())"
      ],
      "execution_count": 3,
      "outputs": [
        {
          "output_type": "stream",
          "text": [
            "False\n"
          ],
          "name": "stdout"
        }
      ]
    },
    {
      "cell_type": "code",
      "metadata": {
        "id": "QHTf_OhkssdH",
        "colab_type": "code",
        "colab": {
          "base_uri": "https://localhost:8080/",
          "height": 34
        },
        "outputId": "71d4e88f-24af-482b-9ad8-e438be74753b"
      },
      "source": [
        "string=\"PAVAN\"\n",
        "print(string.islower())"
      ],
      "execution_count": 4,
      "outputs": [
        {
          "output_type": "stream",
          "text": [
            "False\n"
          ],
          "name": "stdout"
        }
      ]
    },
    {
      "cell_type": "code",
      "metadata": {
        "id": "Auocovavs1pY",
        "colab_type": "code",
        "colab": {
          "base_uri": "https://localhost:8080/",
          "height": 34
        },
        "outputId": "ca5f8468-124c-488d-e72b-20a9eff093f2"
      },
      "source": [
        "string.isupper()"
      ],
      "execution_count": 5,
      "outputs": [
        {
          "output_type": "execute_result",
          "data": {
            "text/plain": [
              "True"
            ]
          },
          "metadata": {
            "tags": []
          },
          "execution_count": 5
        }
      ]
    },
    {
      "cell_type": "code",
      "metadata": {
        "id": "oJLduGuNs6lx",
        "colab_type": "code",
        "colab": {
          "base_uri": "https://localhost:8080/",
          "height": 52
        },
        "outputId": "ad63e0cf-5bcd-4a78-c52c-a7a7f474ff5c"
      },
      "source": [
        "string=\"123\"\n",
        "print(string.isupper())\n",
        "string.islower()"
      ],
      "execution_count": 9,
      "outputs": [
        {
          "output_type": "stream",
          "text": [
            "False\n"
          ],
          "name": "stdout"
        },
        {
          "output_type": "execute_result",
          "data": {
            "text/plain": [
              "False"
            ]
          },
          "metadata": {
            "tags": []
          },
          "execution_count": 9
        }
      ]
    }
  ]
}